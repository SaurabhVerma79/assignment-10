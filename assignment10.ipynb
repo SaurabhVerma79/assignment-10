{
 "cells": [
  {
   "cell_type": "code",
   "execution_count": 2,
   "id": "dc2c295e-aede-4c20-bc7f-12820676bdad",
   "metadata": {},
   "outputs": [],
   "source": [
    "#question1\n",
    "class vehicle:\n",
    "    def __init__(self,name_of_vehicle,max_speed,average_of_vehicle):\n",
    "        self.name_of_vehicle=name_of_vehicle\n",
    "        self.max_speed=max_speed\n",
    "        self.average_of_vehicle=average_of_vehicle\n",
    "    "
   ]
  },
  {
   "cell_type": "code",
   "execution_count": null,
   "id": "b74d8b5f-f483-43d3-9226-4a7fc542e602",
   "metadata": {},
   "outputs": [],
   "source": [
    "#question2\n",
    "\n",
    "class Car(Vehicle):\n",
    "    def seating_capacity(self, capacity):\n",
    "        return f\"{self.name_of_vehicle} has a seating capacity of {capacity}\"\n",
    "\n",
    "        \n",
    "        "
   ]
  },
  {
   "cell_type": "code",
   "execution_count": null,
   "id": "2427ab0b-eef6-4552-9a01-79854d83dc63",
   "metadata": {},
   "outputs": [],
   "source": [
    "#question3\n",
    "Multiple inheritance is a feature in object-oriented programming (OOP) languages where a single\n",
    "class can inherit from multiple parent classes. This means that the child class can inherit attributes \n",
    "and behaviors from multiple parent classes, making it possible to reuse code and combine functionalities \n",
    "from different classes.\n",
    "\n",
    "Here's an example of multiple inheritance in Python:\n",
    "class Parent1:\n",
    "    def method1(self):\n",
    "        print(\"Method 1 of Parent 1\")\n",
    "\n",
    "class Parent2:\n",
    "    def method2(self):\n",
    "        print(\"Method 2 of Parent 2\")\n",
    "\n",
    "class Child(Parent1, Parent2):\n",
    "    pass\n",
    "\n",
    "c = Child()\n",
    "c.method1() # Output: Method 1 of Parent 1\n",
    "c.method2() # Output: Method 2 of Parent 2\n"
   ]
  },
  {
   "cell_type": "code",
   "execution_count": null,
   "id": "7b813ac7-8ba0-4417-be71-55e8b02a7ef6",
   "metadata": {},
   "outputs": [],
   "source": [
    "#question 4\n",
    "In Python, a getter method is a method used to access the value of an instance variable. \n",
    "A setter method, on the other hand, is used to set or update the value of an instance variable.\n",
    "Getter and setter methods are often used to control access to an instance variable and to enforce \n",
    "certain constraints on the value of the variable.\n",
    "\n",
    "Here's an example of a class with getter and setter methods in Python:\n",
    "class Person:\n",
    "    def __init__(self, name):\n",
    "        self._name = name\n",
    "\n",
    "    @property\n",
    "    def name(self):\n",
    "        return self._name\n",
    "\n",
    "    @name.setter\n",
    "    def name(self, value):\n",
    "        if not isinstance(value, str):\n",
    "            raise TypeError(\"Name must be a string\")\n",
    "        self._name = value\n",
    "\n",
    "person = Person(\"John Doe\")\n",
    "print(person.name) # Output: John Doe\n",
    "person.name = \"Jane Doe\"\n",
    "print(person.name) # Output: Jane Doe\n",
    "person.name = 123 # Raises TypeError: Name must be a string\n"
   ]
  },
  {
   "cell_type": "code",
   "execution_count": null,
   "id": "1705e94d-e247-4266-8f8e-be90b63609d6",
   "metadata": {},
   "outputs": [],
   "source": [
    "#question5\n"
   ]
  }
 ],
 "metadata": {
  "kernelspec": {
   "display_name": "Python 3 (ipykernel)",
   "language": "python",
   "name": "python3"
  },
  "language_info": {
   "codemirror_mode": {
    "name": "ipython",
    "version": 3
   },
   "file_extension": ".py",
   "mimetype": "text/x-python",
   "name": "python",
   "nbconvert_exporter": "python",
   "pygments_lexer": "ipython3",
   "version": "3.10.8"
  }
 },
 "nbformat": 4,
 "nbformat_minor": 5
}
